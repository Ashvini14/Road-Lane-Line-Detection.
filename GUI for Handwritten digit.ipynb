{
 "cells": [
  {
   "cell_type": "code",
   "execution_count": 1,
   "metadata": {},
   "outputs": [
    {
     "name": "stdout",
     "output_type": "stream",
     "text": [
      "Requirement already satisfied: pillow in c:\\anaconda3\\lib\\site-packages (9.2.0)\n",
      "\n",
      "[notice] A new release of pip available: 22.2.2 -> 22.3.1\n",
      "[notice] To update, run: python.exe -m pip install --upgrade pip\n",
      "Note: you may need to restart the kernel to use updated packages.\n"
     ]
    }
   ],
   "source": [
    "pip install pillow"
   ]
  },
  {
   "cell_type": "code",
   "execution_count": 4,
   "metadata": {},
   "outputs": [
    {
     "name": "stdout",
     "output_type": "stream",
     "text": [
      "1/1 [==============================] - 0s 133ms/step\n",
      "1/1 [==============================] - 0s 19ms/step\n",
      "1/1 [==============================] - 0s 20ms/step\n",
      "1/1 [==============================] - 0s 19ms/step\n",
      "1/1 [==============================] - 0s 20ms/step\n",
      "1/1 [==============================] - 0s 19ms/step\n",
      "1/1 [==============================] - 0s 20ms/step\n"
     ]
    }
   ],
   "source": [
    "import tkinter as tk\n",
    "import numpy as np\n",
    "import cv2\n",
    "\n",
    "\n",
    "from PIL import ImageTk,Image,ImageDraw\n",
    "\n",
    "from keras.models import Sequential\n",
    "from keras.layers import Dense,Flatten\n",
    "\n",
    "model=Sequential()\n",
    "\n",
    "model.add(Flatten(input_shape=(28,28)))\n",
    "\n",
    "model.add(Dense(512,activation='relu'))\n",
    "model.add(Dense(256,activation='relu'))\n",
    "model.add(Dense(128,activation='relu'))\n",
    "model.add(Dense(64,activation='relu'))\n",
    "model.add(Dense(10,activation='softmax'))\n",
    "\n",
    "model.compile(loss='categorical_crossentropy',optimizer='adam',metrics=['accuracy'])\n",
    "\n",
    "model.load_weights('FFNN-MNIST.h5')\n",
    "\n",
    "def event_function(event):\n",
    "    x=event.x\n",
    "    y=event.y\n",
    "    \n",
    "    x1=x-30\n",
    "    y1=y-30\n",
    "    \n",
    "    x2=x+30\n",
    "    y2=y+30\n",
    "    \n",
    "    canvas.create_oval((x1,y1,x2,y2),fill='black')\n",
    "    img_draw.ellipse((x1,y1,x2,y2),fill='white')\n",
    "def save():\n",
    "    global count\n",
    "    img_array=np.array(img)\n",
    "    img_array=cv2.resize(img_array(28,28))\n",
    "    \n",
    "    cv2.imwrite(str(count)+'.jpg')\n",
    "    count=count+1\n",
    "\n",
    "def clear():\n",
    "    global img,img_draw\n",
    "    \n",
    "    canvas.delete('all')\n",
    "    img=Image.new('RGB',(500,500),(0,0,0))  #black colour\n",
    "    img_draw=ImageDraw.Draw(img)\n",
    "    \n",
    "def predict():\n",
    "    img_array=np.array(img)\n",
    "    img_array=cv2.cvtColor(img_array,cv2.COLOR_BGR2GRAY)\n",
    "    img_array=cv2.resize(img_array,(28,28))\n",
    "    \n",
    "    img_array= img_array/225.0\n",
    "    img_array= img_array.reshape(1,28,28)\n",
    "    result=model.predict(img_array)\n",
    "    label=np.argmax(result,axis=1)\n",
    "    \n",
    "    label_status.config(text='PREDICTED DIGIT:'+str(label))\n",
    "count=0\n",
    "win=tk.Tk()\n",
    "canvas=tk.Canvas(win,width=500,height=500,bg='white')\n",
    "canvas.grid(row=0,column=0, columnspan=4)\n",
    "\n",
    "button_save=tk.Button(win,text='SAVE',bg='green',fg='white',font='Helvetica 20 bold',command=save )\n",
    "button_save.grid(row=1,column=0)\n",
    "\n",
    "button_predict=tk.Button(win,text='PEDICT',bg='blue',fg='white',font='Helvetica 20 bold',command=predict)\n",
    "button_predict.grid(row=1,column=1)\n",
    "\n",
    "button_clear=tk.Button(win,text='CLEAR',bg='yellow',fg='white',font='Helvetica 20 bold',command=clear)\n",
    "button_clear.grid(row=1,column=2)\n",
    "\n",
    "button_exit=tk.Button(win,text='EXIT',bg='red',fg='white',font='Helvetica 20 bold',command=win.destroy)\n",
    "button_exit.grid(row=1,column=3)\n",
    "\n",
    "label_status=tk.Label(win,text='PREDICT DIGIT: NONE',bg='white',font='Helvetica 20 bold')\n",
    "label_status.grid(row=2,column=0,columnspan=4)\n",
    "\n",
    "canvas.bind('<B1-Motion>',event_function)\n",
    "img=Image.new('RGB',(500,500),(0,0,0))  #black colour\n",
    "img_draw=ImageDraw.Draw(img)\n",
    "win.mainloop()"
   ]
  },
  {
   "cell_type": "code",
   "execution_count": null,
   "metadata": {},
   "outputs": [],
   "source": []
  },
  {
   "cell_type": "code",
   "execution_count": null,
   "metadata": {},
   "outputs": [],
   "source": []
  },
  {
   "cell_type": "code",
   "execution_count": null,
   "metadata": {},
   "outputs": [],
   "source": []
  }
 ],
 "metadata": {
  "kernelspec": {
   "display_name": "Python 3",
   "language": "python",
   "name": "python3"
  },
  "language_info": {
   "codemirror_mode": {
    "name": "ipython",
    "version": 3
   },
   "file_extension": ".py",
   "mimetype": "text/x-python",
   "name": "python",
   "nbconvert_exporter": "python",
   "pygments_lexer": "ipython3",
   "version": "3.8.5"
  }
 },
 "nbformat": 4,
 "nbformat_minor": 4
}
