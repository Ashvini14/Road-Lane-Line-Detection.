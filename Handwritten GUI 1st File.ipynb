{
 "cells": [
  {
   "cell_type": "code",
   "execution_count": 5,
   "metadata": {},
   "outputs": [],
   "source": [
    "from keras.datasets import mnist\n",
    "\n"
   ]
  },
  {
   "cell_type": "code",
   "execution_count": 6,
   "metadata": {},
   "outputs": [
    {
     "name": "stdout",
     "output_type": "stream",
     "text": [
      "(60000, 28, 28)\n",
      "(10000, 28, 28)\n",
      "(60000,)\n",
      "(10000,)\n"
     ]
    }
   ],
   "source": [
    "(train_data,train_target),(test_data,test_target)=mnist.load_data()\n",
    "\n",
    "print(train_data.shape)\n",
    "print(test_data.shape)\n",
    "print(train_target.shape)\n",
    "print(test_target.shape)"
   ]
  },
  {
   "cell_type": "code",
   "execution_count": 7,
   "metadata": {},
   "outputs": [
    {
     "data": {
      "image/png": "[encoded data removed]",
      "text/plain": [
       "<Figure size 432x288 with 1 Axes>"
      ]
     },
     "metadata": {
      "needs_background": "light"
     },
     "output_type": "display_data"
    }
   ],
   "source": [
    "from matplotlib import pyplot as plt\n",
    "plt.imshow(train_data[0],cmap='gray')\n",
    "plt.show()"
   ]
  },
  {
   "cell_type": "code",
   "execution_count": 9,
   "metadata": {},
   "outputs": [
    {
     "data": {
      "text/plain": [
       "5"
      ]
     },
     "execution_count": 9,
     "metadata": {},
     "output_type": "execute_result"
    }
   ],
   "source": [
    "train_target[0]"
   ]
  },
  {
   "cell_type": "code",
   "execution_count": 10,
   "metadata": {},
   "outputs": [
    {
     "name": "stdout",
     "output_type": "stream",
     "text": [
      "Model: \"sequential\"\n",
      "_________________________________________________________________\n",
      " Layer (type)                Output Shape              Param #   \n",
      "=================================================================\n",
      " flatten (Flatten)           (None, 784)               0         \n",
      "                                                                 \n",
      " dense (Dense)               (None, 512)               401920    \n",
      "                                                                 \n",
      " dense_1 (Dense)             (None, 256)               131328    \n",
      "                                                                 \n",
      " dense_2 (Dense)             (None, 128)               32896     \n",
      "                                                                 \n",
      " dense_3 (Dense)             (None, 64)                8256      \n",
      "                                                                 \n",
      " dense_4 (Dense)             (None, 10)                650       \n",
      "                                                                 \n",
      "=================================================================\n",
      "Total params: 575,050\n",
      "Trainable params: 575,050\n",
      "Non-trainable params: 0\n",
      "_________________________________________________________________\n"
     ]
    }
   ],
   "source": [
    "from keras.models import Sequential\n",
    "from keras.layers import Dense,Flatten\n",
    "\n",
    "model=Sequential()\n",
    "\n",
    "model.add(Flatten(input_shape=(28,28)))\n",
    "\n",
    "model.add(Dense(512,activation='relu'))\n",
    "model.add(Dense(256,activation='relu'))\n",
    "model.add(Dense(128,activation='relu'))\n",
    "model.add(Dense(64,activation='relu'))\n",
    "model.add(Dense(10,activation='softmax'))\n",
    "\n",
    "model.compile(loss='categorical_crossentropy',optimizer='adam',metrics=['accuracy'])\n",
    "\n",
    "model.summary()"
   ]
  },
  {
   "cell_type": "code",
   "execution_count": 11,
   "metadata": {},
   "outputs": [
    {
     "name": "stdout",
     "output_type": "stream",
     "text": [
      "[5 0 4 1 9 2 1 3 1 4]\n",
      "[[0. 0. 0. 0. 0. 1. 0. 0. 0. 0.]\n",
      " [1. 0. 0. 0. 0. 0. 0. 0. 0. 0.]\n",
      " [0. 0. 0. 0. 1. 0. 0. 0. 0. 0.]\n",
      " [0. 1. 0. 0. 0. 0. 0. 0. 0. 0.]\n",
      " [0. 0. 0. 0. 0. 0. 0. 0. 0. 1.]\n",
      " [0. 0. 1. 0. 0. 0. 0. 0. 0. 0.]\n",
      " [0. 1. 0. 0. 0. 0. 0. 0. 0. 0.]\n",
      " [0. 0. 0. 1. 0. 0. 0. 0. 0. 0.]\n",
      " [0. 1. 0. 0. 0. 0. 0. 0. 0. 0.]\n",
      " [0. 0. 0. 0. 1. 0. 0. 0. 0. 0.]]\n"
     ]
    }
   ],
   "source": [
    "from keras.utils import np_utils\n",
    "\n",
    "new_train_target=np_utils.to_categorical(train_target)\n",
    "new_test_target=np_utils.to_categorical(test_target)\n",
    "\n",
    "print(train_target[:10])\n",
    "print(new_train_target[:10])"
   ]
  },
  {
   "cell_type": "code",
   "execution_count": 12,
   "metadata": {},
   "outputs": [],
   "source": [
    "new_train_data=train_data/255\n",
    "new_test_data=test_data/255\n"
   ]
  },
  {
   "cell_type": "code",
   "execution_count": 13,
   "metadata": {},
   "outputs": [
    {
     "name": "stdout",
     "output_type": "stream",
     "text": [
      "Epoch 1/20\n",
      "1875/1875 [==============================] - 11s 6ms/step - loss: 0.2080 - accuracy: 0.9376\n",
      "Epoch 2/20\n",
      "1875/1875 [==============================] - 10s 5ms/step - loss: 0.0953 - accuracy: 0.9711\n",
      "Epoch 3/20\n",
      "1875/1875 [==============================] - 11s 6ms/step - loss: 0.0675 - accuracy: 0.9799\n",
      "Epoch 4/20\n",
      "1875/1875 [==============================] - 10s 5ms/step - loss: 0.0543 - accuracy: 0.9831\n",
      "Epoch 5/20\n",
      "1875/1875 [==============================] - 11s 6ms/step - loss: 0.0423 - accuracy: 0.9871\n",
      "Epoch 6/20\n",
      "1875/1875 [==============================] - 10s 6ms/step - loss: 0.0381 - accuracy: 0.9884\n",
      "Epoch 7/20\n",
      "1875/1875 [==============================] - 10s 6ms/step - loss: 0.0291 - accuracy: 0.9913\n",
      "Epoch 8/20\n",
      "1875/1875 [==============================] - 11s 6ms/step - loss: 0.0304 - accuracy: 0.9911\n",
      "Epoch 9/20\n",
      "1875/1875 [==============================] - 10s 5ms/step - loss: 0.0251 - accuracy: 0.9923\n",
      "Epoch 10/20\n",
      "1875/1875 [==============================] - 10s 5ms/step - loss: 0.0217 - accuracy: 0.9938\n",
      "Epoch 11/20\n",
      "1875/1875 [==============================] - 10s 5ms/step - loss: 0.0208 - accuracy: 0.9940\n",
      "Epoch 12/20\n",
      "1875/1875 [==============================] - 11s 6ms/step - loss: 0.0182 - accuracy: 0.9948\n",
      "Epoch 13/20\n",
      "1875/1875 [==============================] - 11s 6ms/step - loss: 0.0182 - accuracy: 0.9951\n",
      "Epoch 14/20\n",
      "1875/1875 [==============================] - 10s 5ms/step - loss: 0.0160 - accuracy: 0.9952\n",
      "Epoch 15/20\n",
      "1875/1875 [==============================] - 10s 5ms/step - loss: 0.0168 - accuracy: 0.9952\n",
      "Epoch 16/20\n",
      "1875/1875 [==============================] - 10s 5ms/step - loss: 0.0139 - accuracy: 0.9959\n",
      "Epoch 17/20\n",
      "1875/1875 [==============================] - 10s 5ms/step - loss: 0.0147 - accuracy: 0.9957\n",
      "Epoch 18/20\n",
      "1875/1875 [==============================] - 10s 5ms/step - loss: 0.0131 - accuracy: 0.9961\n",
      "Epoch 19/20\n",
      "1875/1875 [==============================] - 10s 5ms/step - loss: 0.0118 - accuracy: 0.9968\n",
      "Epoch 20/20\n",
      "1875/1875 [==============================] - 10s 5ms/step - loss: 0.0123 - accuracy: 0.9964\n"
     ]
    },
    {
     "data": {
      "text/plain": [
       "<keras.callbacks.History at 0x1e474668e50>"
      ]
     },
     "execution_count": 13,
     "metadata": {},
     "output_type": "execute_result"
    }
   ],
   "source": [
    "model.fit(new_train_data,new_train_target,epochs=20)"
   ]
  },
  {
   "cell_type": "code",
   "execution_count": 14,
   "metadata": {},
   "outputs": [
    {
     "data": {
      "image/png": "[encoded data removed]",
      "text/plain": [
       "<Figure size 432x288 with 1 Axes>"
      ]
     },
     "metadata": {
      "needs_background": "light"
     },
     "output_type": "display_data"
    }
   ],
   "source": [
    "from matplotlib import pyplot as plt\n",
    "\n",
    "plt.plot(model.history.history['loss'])\n",
    "plt.xlabel('# epochs')\n",
    "plt.ylabel('loss')\n",
    "plt.show()"
   ]
  },
  {
   "cell_type": "code",
   "execution_count": 15,
   "metadata": {},
   "outputs": [
    {
     "data": {
      "image/png": "[encoded data removed]",
      "text/plain": [
       "<Figure size 432x288 with 1 Axes>"
      ]
     },
     "metadata": {
      "needs_background": "light"
     },
     "output_type": "display_data"
    }
   ],
   "source": [
    "plt.plot(model.history.history['accuracy'])\n",
    "plt.xlabel('# epochs')\n",
    "plt.ylabel('accuracy')\n",
    "plt.show()"
   ]
  },
  {
   "cell_type": "code",
   "execution_count": 16,
   "metadata": {},
   "outputs": [
    {
     "name": "stdout",
     "output_type": "stream",
     "text": [
      "313/313 [==============================] - 1s 3ms/step - loss: 0.1217 - accuracy: 0.9831\n"
     ]
    },
    {
     "data": {
      "text/plain": [
       "[0.12170563638210297, 0.9830999970436096]"
      ]
     },
     "execution_count": 16,
     "metadata": {},
     "output_type": "execute_result"
    }
   ],
   "source": [
    "model.evaluate(new_test_data,new_test_target)"
   ]
  },
  {
   "cell_type": "code",
   "execution_count": 17,
   "metadata": {},
   "outputs": [],
   "source": [
    "model.save_weights('FFNN-MNIST.h5')"
   ]
  },
  {
   "cell_type": "markdown",
   "metadata": {},
   "source": [
    "mo"
   ]
  },
  {
   "cell_type": "markdown",
   "metadata": {},
   "source": []
  },
  {
   "cell_type": "code",
   "execution_count": null,
   "metadata": {},
   "outputs": [],
   "source": []
  },
  {
   "cell_type": "code",
   "execution_count": null,
   "metadata": {},
   "outputs": [],
   "source": []
  },
  {
   "cell_type": "code",
   "execution_count": null,
   "metadata": {},
   "outputs": [],
   "source": []
  },
  {
   "cell_type": "code",
   "execution_count": null,
   "metadata": {},
   "outputs": [],
   "source": []
  },
  {
   "cell_type": "code",
   "execution_count": null,
   "metadata": {},
   "outputs": [],
   "source": []
  }
 ],
 "metadata": {
  "kernelspec": {
   "display_name": "Python 3",
   "language": "python",
   "name": "python3"
  },
  "language_info": {
   "codemirror_mode": {
    "name": "ipython",
    "version": 3
   },
   "file_extension": ".py",
   "mimetype": "text/x-python",
   "name": "python",
   "nbconvert_exporter": "python",
   "pygments_lexer": "ipython3",
   "version": "3.8.5"
  }
 },
 "nbformat": 4,
 "nbformat_minor": 4
}
